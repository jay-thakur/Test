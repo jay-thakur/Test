{
  "nbformat": 4,
  "nbformat_minor": 0,
  "metadata": {
    "colab": {
      "name": "hello.ipynb",
      "provenance": [],
      "collapsed_sections": []
    },
    "kernelspec": {
      "name": "python3",
      "display_name": "Python 3"
    },
    "accelerator": "GPU"
  },
  "cells": [
    {
      "cell_type": "code",
      "metadata": {
        "id": "G1HklaQ2Dptp",
        "colab_type": "code",
        "colab": {}
      },
      "source": [
        "print(\"Hello Google Colab!\")"
      ],
      "execution_count": null,
      "outputs": []
    }
  ]
}